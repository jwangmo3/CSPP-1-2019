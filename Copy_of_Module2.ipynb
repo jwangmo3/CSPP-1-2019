{
  "nbformat": 4,
  "nbformat_minor": 0,
  "metadata": {
    "colab": {
      "name": "Copy of Module2.ipynb",
      "version": "0.3.2",
      "provenance": [],
      "include_colab_link": true
    },
    "kernelspec": {
      "name": "python3",
      "display_name": "Python 3"
    }
  },
  "cells": [
    {
      "cell_type": "markdown",
      "metadata": {
        "id": "view-in-github",
        "colab_type": "text"
      },
      "source": [
        "<a href=\"https://colab.research.google.com/github/jwangmo3/CSPP-1-2019/blob/master/Copy_of_Module2.ipynb\" target=\"_parent\"><img src=\"https://colab.research.google.com/assets/colab-badge.svg\" alt=\"Open In Colab\"/></a>"
      ]
    },
    {
      "metadata": {
        "id": "rATgVWO9v2qL",
        "colab_type": "text"
      },
      "cell_type": "markdown",
      "source": [
        "Given a string and a non-negative int n, return a larger string that is n copies of the original string.\n",
        "\n",
        "\n",
        "string_times('Hi', 2) → 'HiHi'\n",
        "string_times('Hi', 3) → 'HiHiHi'\n",
        "string_times('Hi', 1) → 'Hi'"
      ]
    },
    {
      "metadata": {
        "id": "mZ7QMuK2wVHZ",
        "colab_type": "code",
        "colab": {}
      },
      "cell_type": "code",
      "source": [
        "def string_times(str, n):\n",
        "  #complete the code\n",
        "  pass\n",
        "assert string_times('Hi', 2) == 'HiHi'\n",
        "assert string_times('Hi', 3) == 'HiHiHi'\n",
        "assert string_times('Hi', 1) == 'Hi'\n",
        "assert string_times('Hi', 0) == ''\n",
        "assert string_times('Hi', 5) == 'HiHiHiHiHi'\n",
        "assert string_times('Oh Boy!', 2) == 'Oh Boy!Oh Boy!'\t\n",
        "assert string_times('x', 4) == 'xxxx'\t\n",
        "assert string_times('', 4) == ''\n",
        "assert string_times('code', 2) == 'codecode'\n",
        "assert string_times('code', 3) == 'codecodecode'\n",
        "print(\"All the testcases passed!\")"
      ],
      "execution_count": 0,
      "outputs": []
    },
    {
      "metadata": {
        "id": "fQAA4ORv2dPH",
        "colab_type": "text"
      },
      "cell_type": "markdown",
      "source": [
        "Given a string name, e.g. \"Bob\", return a greeting of the form \"Hello Bob!\".\n",
        "\n",
        "\n",
        "hello_name('Bob') → 'Hello Bob!'\n",
        "hello_name('Alice') → 'Hello Alice!'\n",
        "hello_name('X') → 'Hello X!'"
      ]
    },
    {
      "metadata": {
        "id": "nux8LCms2enS",
        "colab_type": "code",
        "colab": {}
      },
      "cell_type": "code",
      "source": [
        "def hello_name(name):\n",
        "  #complete the code\n",
        "  pass\n",
        "assert hello_name('Bob') == 'Hello Bob!'\n",
        "assert hello_name('Alice') == 'Hello Alice!'\n",
        "assert hello_name('X') == 'Hello X!'\n",
        "assert hello_name('Dolly') == 'Hello Dolly!'\n",
        "assert hello_name('Alpha') == 'Hello Alpha!'\n",
        "print(\"All the testcases passed!\")"
      ],
      "execution_count": 0,
      "outputs": []
    },
    {
      "metadata": {
        "id": "XAsRDqhm3FiH",
        "colab_type": "text"
      },
      "cell_type": "markdown",
      "source": [
        "Given two strings, a and b, return the result of putting them together in the order abba, e.g. \"Hi\" and \"Bye\" returns \"HiByeByeHi\".\n",
        "make_abba('Hi', 'Bye') → 'HiByeByeHi'\n",
        "make_abba('Yo', 'Alice') → 'YoAliceAliceYo'\n",
        "make_abba('What', 'Up') → 'WhatUpUpWhat'"
      ]
    },
    {
      "metadata": {
        "id": "XYpS1x0A3GkS",
        "colab_type": "code",
        "colab": {}
      },
      "cell_type": "code",
      "source": [
        "def make_abba(a, b):\n",
        "  #complete the code\n",
        "  pass\n",
        "assert make_abba('Hi', 'Bye') == 'HiByeByeHi'\n",
        "assert make_abba('Yo', 'Alice') == 'YoAliceAliceYo'\n",
        "assert make_abba('What', 'Up') == 'WhatUpUpWhat'\n",
        "assert make_abba('aaa', 'bbb') == 'aaabbbbbbaaa'\n",
        "assert make_abba('x', 'y') == 'xyyx'\n",
        "print(\"All the testcases passed!\")"
      ],
      "execution_count": 0,
      "outputs": []
    },
    {
      "metadata": {
        "id": "IOcARAB04Jbs",
        "colab_type": "text"
      },
      "cell_type": "markdown",
      "source": [
        "The web is built with HTML strings like \"<i>Yay</i>\" which draws Yay as italic text. In this example, the \"i\" tag makes <i> and </i> which surround the word \"Yay\". Given tag and word strings, create the HTML string with tags around the word, e.g. \"<i>Yay</i>\".\n",
        "\n",
        "\n",
        "make_tags('i', 'Yay') → '<i>Yay</i>'\n",
        "make_tags('i', 'Hello') → '<i>Hello</i>'\n",
        "make_tags('cite', 'Yay') → '<cite>Yay</cite>'"
      ]
    },
    {
      "metadata": {
        "id": "1d_WSAOo4KPs",
        "colab_type": "code",
        "colab": {}
      },
      "cell_type": "code",
      "source": [
        "def make_tags(tag, word):\n",
        "  #complete the code\n",
        "  pass\n",
        "assert make_tags('i', 'Yay') == '<i>Yay</i>'\n",
        "assert make_tags('i', 'Hello') == '<i>Hello</i>'\n",
        "assert make_tags('cite', 'Yay') == '<cite>Yay</cite>'\n",
        "assert make_tags('address', 'here') == '<address>here</address>'\n",
        "print(\"All the testcases passed!\")"
      ],
      "execution_count": 0,
      "outputs": []
    },
    {
      "metadata": {
        "id": "Qtuw6FiZ5YWD",
        "colab_type": "text"
      },
      "cell_type": "markdown",
      "source": [
        "Given a string, return a new string made of 3 copies of the last 2 chars of the original string. The string length will be at least 2.\n",
        "\n",
        "\n",
        "extra_end('Hello') → 'lololo'\n",
        "extra_end('ab') → 'ababab'\n",
        "extra_end('Hi') → 'HiHiHi'\n"
      ]
    },
    {
      "metadata": {
        "id": "rIeDnom55Z5p",
        "colab_type": "code",
        "colab": {}
      },
      "cell_type": "code",
      "source": [
        "def extra_end(str):\n",
        "  #complete the code\n",
        "  pass\n",
        "assert extra_end('Hello') == 'lololo'\n",
        "assert extra_end('ab') == 'ababab'\n",
        "assert extra_end('Hi') == 'HiHiHi'\n",
        "assert extra_end('Candy') == 'dydydy'\n",
        "assert extra_end('Code') == 'dedede'\n",
        "print(\"All the testcases passed!\")"
      ],
      "execution_count": 0,
      "outputs": []
    },
    {
      "metadata": {
        "id": "v_kJymOZxCm6",
        "colab_type": "text"
      },
      "cell_type": "markdown",
      "source": [
        "Given a string and a non-negative int n, we'll say that the front of the string is the first 3 chars, or whatever is there if the string is less than length 3. Return n copies of the front;\n",
        "\n",
        "\n",
        "front_times('Chocolate', 2) → 'ChoCho'\n",
        "front_times('Chocolate', 3) → 'ChoChoCho'\n",
        "front_times('Abc', 3) → 'AbcAbcAbc'\n"
      ]
    },
    {
      "metadata": {
        "id": "lzE0wyFIxS6s",
        "colab_type": "code",
        "colab": {}
      },
      "cell_type": "code",
      "source": [
        "def front_times(str, n):\n",
        "  #complete the code\n",
        "  pass\n",
        "assert front_times('Chocolate', 2) == 'ChoCho'\n",
        "assert front_times('Chocolate', 3) == 'ChoChoCho'\n",
        "assert front_times('Abc', 3) == 'AbcAbcAbc'\n",
        "assert front_times('Ab', 4) == 'AbAbAbAb'\n",
        "assert front_times('A', 4) == 'AAAA'\n",
        "assert front_times('', 4) == ''\t\n",
        "assert front_times('Abc', 0) == ''\n",
        "print(\"All the testcases passed!\")"
      ],
      "execution_count": 0,
      "outputs": []
    },
    {
      "metadata": {
        "id": "Mu6T0KRBv4ck",
        "colab_type": "text"
      },
      "cell_type": "markdown",
      "source": [
        "Given a string, return a new string made of every other char starting with the first, so \"Hello\" yields \"Hlo\".\n",
        "\n",
        "\n",
        "string_bits('Hello') → 'Hlo'\n",
        "string_bits('Hi') → 'H'\n",
        "string_bits('Heeololeo') → 'Hello'"
      ]
    },
    {
      "metadata": {
        "id": "lbHn90iEy7P6",
        "colab_type": "code",
        "colab": {}
      },
      "cell_type": "code",
      "source": [
        "def string_bits(str):\n",
        "  #complete the code\n",
        "  pass\n",
        "assert string_bits('Hello') == 'Hlo'\n",
        "assert string_bits('Hi') == 'H'\n",
        "assert string_bits('Heeololeo') == 'Hello'\n",
        "assert string_bits('HiHiHi') == 'HHH'\n",
        "assert string_bits('') == ''\n",
        "assert string_bits('Greetings') == 'Getns'\n",
        "assert string_bits('Chocoate') == 'Coot'\n",
        "assert string_bits('pi') == 'p'\n",
        "assert string_bits('Hello Kitten') == 'HloKte'\n",
        "assert string_bits('hxaxpxpxy') == 'happy'\n",
        "print(\"All the testcases passed!\")\n"
      ],
      "execution_count": 0,
      "outputs": []
    },
    {
      "metadata": {
        "id": "khSOyaTezr_2",
        "colab_type": "text"
      },
      "cell_type": "markdown",
      "source": [
        "Given a non-empty string like \"Code\" return a string like \"CCoCodCode\".\n",
        "\n",
        "\n",
        "string_splosion('Code') → 'CCoCodCode'\n",
        "string_splosion('abc') → 'aababc'\n",
        "string_splosion('ab') → 'aab'\n"
      ]
    },
    {
      "metadata": {
        "id": "-W41kTnkzwyL",
        "colab_type": "code",
        "colab": {}
      },
      "cell_type": "code",
      "source": [
        "def string_splosion(str):\n",
        "  #complete the code\n",
        "  pass\n",
        "assert string_splosion('Code') == 'CCoCodCode'\n",
        "assert string_splosion('abc') == 'aababc'\n",
        "assert string_splosion('ab') == 'aab'\n",
        "assert string_splosion('x') == 'x'\n",
        "assert string_splosion('fade') == 'ffafadfade'\t\n",
        "assert string_splosion('There') == 'TThTheTherThere'\n",
        "assert string_splosion('Kitten') == 'KKiKitKittKitteKitten'\n",
        "print(\"All the testcases passed!\")"
      ],
      "execution_count": 0,
      "outputs": []
    },
    {
      "metadata": {
        "id": "8CfV9dZ70jkk",
        "colab_type": "text"
      },
      "cell_type": "markdown",
      "source": [
        "Given a string, return the count of the number of times that a substring length 2 appears in the string and also as the last 2 chars of the string, so \"hixxxhi\" yields 1 (we won't count the end substring).\n",
        "\n",
        "\n",
        "last2('hixxhi') → 1\n",
        "last2('xaxxaxaxx') → 1\n",
        "last2('axxxaaxx') → 2"
      ]
    },
    {
      "metadata": {
        "id": "z-4LsuQn0nog",
        "colab_type": "code",
        "colab": {}
      },
      "cell_type": "code",
      "source": [
        "def last2(str):\n",
        "  #complete the code\n",
        "  pass\n",
        "assert last2('hixxhi') == 1\n",
        "assert last2('xaxxaxaxx') == 1\t\n",
        "assert last2('axxxaaxx') == 2\t\n",
        "assert last2('xxaxxaxxaxx') == 3\t\n",
        "assert last2('xaxaxaxx') == 0\t\n",
        "assert last2('xxxx') == 2\n",
        "assert last2('13121312') == 1\n",
        "print(\"All the testcases passed!\")"
      ],
      "execution_count": 0,
      "outputs": []
    },
    {
      "metadata": {
        "id": "asw0NIdS1Z1w",
        "colab_type": "text"
      },
      "cell_type": "markdown",
      "source": [
        "Given 2 strings, a and b, return the number of the positions where they contain the same length 2 substring. So \"xxcaazz\" and \"xxbaaz\" yields 3, since the \"xx\", \"aa\", and \"az\" substrings appear in the same place in both strings.\n",
        "\n",
        "\n",
        "string_match('xxcaazz', 'xxbaaz') → 3\n",
        "string_match('abc', 'abc') → 2\n",
        "string_match('abc', 'axc') → 0"
      ]
    },
    {
      "metadata": {
        "id": "dlvBLPqF1bjp",
        "colab_type": "code",
        "colab": {}
      },
      "cell_type": "code",
      "source": [
        "def string_match(a, b):\n",
        "  #complete the code\n",
        "  pass\n",
        "assert string_match('xxcaazz', 'xxbaaz') == 3\n",
        "assert string_match('abc', 'abc') == 2\n",
        "assert string_match('abc', 'axc') == 0\t\n",
        "assert string_match('hello', 'he') == 1\t\n",
        "assert string_match('he', 'hello') == 1\t\n",
        "assert string_match('h', 'hello') == 0\n",
        "print(\"All the testcases passed!\")"
      ],
      "execution_count": 0,
      "outputs": []
    },
    {
      "metadata": {
        "id": "-av0DJ766RLj",
        "colab_type": "text"
      },
      "cell_type": "markdown",
      "source": [
        "Given a string, return the string made of its first two chars, so the String \"Hello\" yields \"He\". If the string is shorter than length 2, return whatever there is, so \"X\" yields \"X\", and the empty string \"\" yields the empty string \"\".\n",
        "\n",
        "\n",
        "first_two('Hello') → 'He'\n",
        "first_two('abcdefg') → 'ab'\n",
        "first_two('ab') → 'ab'"
      ]
    },
    {
      "metadata": {
        "id": "pw1q7GiL6SSY",
        "colab_type": "code",
        "colab": {}
      },
      "cell_type": "code",
      "source": [
        "def first_two(str):\n",
        "  #complete the code\n",
        "  pass\n",
        "assert first_two('ab') == 'ab'\n",
        "assert first_two('a') == 'a'\n",
        "assert first_two('') == ''\n",
        "assert first_two('Kitten') == 'Ki'\n",
        "assert first_two('hi') == 'hi'\n",
        "print(\"All the testcases passed!\")"
      ],
      "execution_count": 0,
      "outputs": []
    },
    {
      "metadata": {
        "id": "Z-pXfRro6761",
        "colab_type": "text"
      },
      "cell_type": "markdown",
      "source": [
        "Given a string of even length, return the first half. So the string \"WooHoo\" yields \"Woo\".\n",
        "\n",
        "\n",
        "first_half('WooHoo') → 'Woo'\n",
        "first_half('HelloThere') → 'Hello'\n",
        "first_half('abcdef') → 'abc'"
      ]
    },
    {
      "metadata": {
        "id": "tMF6oYH768t3",
        "colab_type": "code",
        "colab": {}
      },
      "cell_type": "code",
      "source": [
        "def first_half(str):\n",
        "  #complete the code\n",
        "  pass\n",
        "assert first_half('WooHoo') == 'Woo'\n",
        "assert first_half('HelloThere') == 'Hello'\n",
        "assert first_half('abcdef') == 'abc'\n",
        "assert first_half('ab') == 'a'\n",
        "assert first_half('') == ''\n",
        "print(\"All the testcases passed!\")"
      ],
      "execution_count": 0,
      "outputs": []
    }
  ]
}