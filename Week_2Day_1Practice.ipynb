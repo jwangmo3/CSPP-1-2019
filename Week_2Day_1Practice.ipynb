{
  "nbformat": 4,
  "nbformat_minor": 0,
  "metadata": {
    "colab": {
      "name": "Week_2Day_1Practice.ipynb",
      "version": "0.3.2",
      "provenance": [],
      "collapsed_sections": [],
      "include_colab_link": true
    },
    "kernelspec": {
      "name": "python3",
      "display_name": "Python 3"
    }
  },
  "cells": [
    {
      "cell_type": "markdown",
      "metadata": {
        "id": "view-in-github",
        "colab_type": "text"
      },
      "source": [
        "<a href=\"https://colab.research.google.com/github/jwangmo3/CSPP-1-2019/blob/master/Week_2Day_1Practice.ipynb\" target=\"_parent\"><img src=\"https://colab.research.google.com/assets/colab-badge.svg\" alt=\"Open In Colab\"/></a>"
      ]
    },
    {
      "metadata": {
        "id": "6gOhb7ASiLYr",
        "colab_type": "text"
      },
      "cell_type": "markdown",
      "source": [
        "Problem Statement :\n",
        "\n",
        " You have to write python code for extracting data from a string which is in the HTML format. The given html code is respossible for displaying the items line by line with a bullet.\n",
        " <h2>An unordered HTML list</h2>\n",
        "<ul>\n",
        "  <li>Coffee</li>\n",
        "  <li>Tea</li>\n",
        "  <li>Milk</li>\n",
        "  <li>Chocolate</li>\n",
        "  <li>Water</li>\n",
        "  <li>Apple Juice</li>\n",
        "  <li>Coconut Water</li>\n",
        "  <li>Sugarcane Juice</li>\n",
        "</ul>  "
      ]
    },
    {
      "metadata": {
        "id": "iZhkyDyAsbh7",
        "colab_type": "text"
      },
      "cell_type": "markdown",
      "source": [
        "Write a program that returns the count of the items present in the string"
      ]
    },
    {
      "metadata": {
        "id": "gDXlZbccsogT",
        "colab_type": "code",
        "outputId": "a4733b0e-a1dc-4bd2-8521-5f2594585e10",
        "colab": {
          "base_uri": "https://localhost:8080/",
          "height": 34
        }
      },
      "cell_type": "code",
      "source": [
        "def get_count(html):\n",
        "  \n",
        "  l=len(html)\n",
        "  if l==0:\n",
        "    return None\n",
        "  item=html.split('<li>')\n",
        "  #print(item)\n",
        "  li=len(item)\n",
        "  #print(li)\n",
        "  return li-1\n",
        "\n",
        "assert get_count('''<h2>An unordered HTML List</h2><ul><li>Coffee</li><li>Tea</li><li>Milk</li><li>Chocolate</li><li>Water</li><li>Apple Juice</li><li>Coconut Water</li><li>Sugarcane Juice</li></ul>''')==8\n",
        "assert get_count('''<h2>An unordered HTML List</h2><ul><li>Coffee</li><li>Tea</li><li>Milk</li><li>Chocolate</li><li>Water</li></ul>''')==5\n",
        "assert get_count('''<h2>An unordered HTML List</h2><ul><li>Coffee</li></ul>''')==1\n",
        "assert get_count(\"\")==None\n",
        "print(\"All testcases are passed\")"
      ],
      "execution_count": 0,
      "outputs": [
        {
          "output_type": "stream",
          "text": [
            "All testcases are passed\n"
          ],
          "name": "stdout"
        }
      ]
    },
    {
      "metadata": {
        "id": "DpzUYaVfuPOT",
        "colab_type": "text"
      },
      "cell_type": "markdown",
      "source": [
        "Write a program that returns true if the given item is present in the string, else false"
      ]
    },
    {
      "metadata": {
        "id": "TL4RVU4cu53D",
        "colab_type": "code",
        "outputId": "0ee5099e-0b40-4793-f4ae-34ffcc0dc43c",
        "colab": {
          "base_uri": "https://localhost:8080/",
          "height": 121
        }
      },
      "cell_type": "code",
      "source": [
        "def item_exists(html, target):\n",
        "  \n",
        "  l=get_count(html)\n",
        " \n",
        "  if l==0:\n",
        "    return False\n",
        "  \n",
        "  html=html[html.find(\"<li>\")+len(\"<li>\"):] #remove h2 heading\n",
        "  html=html[:html.find(\"</ul>\")] #remove the ul tag at the end\n",
        "  print(html)\n",
        "  \n",
        "  \n",
        "  li=html.split(\"<li>\") #split with </li> and store list\n",
        " \n",
        "  lis=[i[:-5] for i in li] #removes </li> and stores the list in lis\n",
        "   \n",
        "  if target in lis:\n",
        "    return True\n",
        "  else:\n",
        "    return False\n",
        "  \n",
        "assert item_exists('''<h2>An unordered HTML List</h2><ul><li>Coffee</li><li>Tea</li><li>Milk</li><li>Chocolate</li><li>Water</li><li>Apple Juice</li><li>Coconut Water</li><li>Sugarcane Juice</li></ul>''',\"Sugarcane Juice\")==True\n",
        "assert item_exists('''<h2>An unordered HTML List</h2><ul><li>Coffee</li><li>Tea</li><li>Milk</li><li>Chocolate</li><li>Water</li></ul>''',\"Mango Juice\")==False\n",
        "assert item_exists('''<h2>An unordered HTML List</h2><ul><li>Coffee</li></ul>''',\"Coffee\")==True\n",
        "assert item_exists(\"\",\"Tea\")==False\n",
        "print(\"All testcases are passed\")"
      ],
      "execution_count": 0,
      "outputs": [
        {
          "output_type": "stream",
          "text": [
            "Coffee</li><li>Tea</li><li>Milk</li><li>Chocolate</li><li>Water</li><li>Apple Juice</li><li>Coconut Water</li><li>Sugarcane Juice</li>\n",
            "Coffee</li><li>Tea</li><li>Milk</li><li>Chocolate</li><li>Water</li>\n",
            "Coffee</li>\n",
            "\n",
            "All testcases are passed\n"
          ],
          "name": "stdout"
        }
      ]
    },
    {
      "metadata": {
        "id": "6WhNiwGyvfLo",
        "colab_type": "text"
      },
      "cell_type": "markdown",
      "source": [
        "Write a program that returns a string which contains all the items in the html with comma separated.\n"
      ]
    },
    {
      "metadata": {
        "id": "fPPYRwXlv5zM",
        "colab_type": "code",
        "outputId": "26b92279-2a02-4b26-dfd3-93957a87806a",
        "colab": {
          "base_uri": "https://localhost:8080/",
          "height": 35
        }
      },
      "cell_type": "code",
      "source": [
        "def get_items(html):\n",
        " \n",
        "  if  len(html) == 0:\n",
        "    return None\n",
        "  \n",
        "  html1=html[html.find(\"<li>\")+len(\"<li>\"):] #remove h2 heading\n",
        "  html2=html1[:html.find(\"</ul>\")] #remove the ul tag at the end\n",
        "\n",
        "  html3=html2.replace('</li><li>',',')\n",
        "  #print(html3)\n",
        "  html4=html3.replace('</li></ul>',',')\n",
        "  #print(html4)\n",
        "\n",
        "  html5=html4[:-1]\n",
        "  \n",
        "  return html5\n",
        "  \n",
        "assert get_items('''<h2>An unordered HTML List</h2><ul><li>Coffee</li><li>Tea</li><li>Milk</li><li>Chocolate</li><li>Water</li><li>Apple Juice</li><li>Coconut Water</li><li>Sugarcane Juice</li></ul>''')==\"Coffee,Tea,Milk,Chocolate,Water,Apple Juice,Coconut Water,Sugarcane Juice\"\n",
        "assert get_items('''<h2>An unordered HTML List</h2><ul><li>Coffee</li><li>Tea</li><li>Milk</li><li>Chocolate</li><li>Water</li></ul>''')==\"Coffee,Tea,Milk,Chocolate,Water\"\n",
        "assert get_items('''<h2>An unordered HTML List</h2><ul><li>Coffee</li></ul>''')==\"Coffee\"\n",
        "assert get_items(\"\")==None\n",
        "print(\"All test cases passed\")\n"
      ],
      "execution_count": 0,
      "outputs": [
        {
          "output_type": "stream",
          "text": [
            "All test cases passed\n"
          ],
          "name": "stdout"
        }
      ]
    },
    {
      "metadata": {
        "id": "edoRQ7sYw1QB",
        "colab_type": "text"
      },
      "cell_type": "markdown",
      "source": [
        "Write a program that returns the nth item from the given html string."
      ]
    },
    {
      "metadata": {
        "id": "sjUJSn9kw_PD",
        "colab_type": "code",
        "outputId": "7a656ee6-b136-412a-825f-fd4bb6d44a80",
        "colab": {
          "base_uri": "https://localhost:8080/",
          "height": 35
        }
      },
      "cell_type": "code",
      "source": [
        "def get_nth_item(html,n):\n",
        "  if len(html)==0:\n",
        "    return None\n",
        "  item=0\n",
        "  i=0\n",
        "  while i < n:\n",
        "    item=get_items(html)\n",
        "    #print(item)\n",
        "    lis=item.split(',')\n",
        "    #print(lis)\n",
        "    \n",
        "    lis=lis[i]\n",
        "    #print(lis)\n",
        "    \n",
        "    i+=1\n",
        "  #print(lis)\n",
        "  return lis\n",
        "\n",
        "assert get_nth_item('''<h2>An unordered HTML List</h2><ul><li>Coffee</li><li>Tea</li><li>Milk</li><li>Chocolate</li><li>Water</li><li>Apple Juice</li><li>Coconut Water</li><li>Sugarcane Juice</li></ul>''', 4)==\"Chocolate\"\n",
        "assert get_nth_item('''<h2>An unordered HTML List</h2><ul><li>Coffee</li><li>Tea</li><li>Milk</li><li>Chocolate</li><li>Water</li></ul>''',2)==\"Tea\"\n",
        "assert get_nth_item('''<h2>An unordered HTML List</h2><ul><li>Coffee</li></ul>''',1)==\"Coffee\"\n",
        "assert get_nth_item(\"\",8)==None\n",
        "print(\"All test cases passed\")"
      ],
      "execution_count": 0,
      "outputs": [
        {
          "output_type": "stream",
          "text": [
            "All test cases passed\n"
          ],
          "name": "stdout"
        }
      ]
    },
    {
      "metadata": {
        "id": "QBEKAVkEz4tZ",
        "colab_type": "text"
      },
      "cell_type": "markdown",
      "source": [
        "Write a program that return true if the any item occurs multiple time, else false."
      ]
    },
    {
      "metadata": {
        "id": "m09Udp5W0KDs",
        "colab_type": "code",
        "outputId": "365766f3-6ff6-450b-b972-ab46a7057fa6",
        "colab": {
          "base_uri": "https://localhost:8080/",
          "height": 35
        }
      },
      "cell_type": "code",
      "source": [
        "def duplicate_items(html):\n",
        "  l=html.count(\"<li>\")\n",
        "  \n",
        "  if l==0:\n",
        "    return None\n",
        "\n",
        "  item=0\n",
        "  i=0\n",
        "  c=0\n",
        "  \n",
        "  while i < l:\n",
        "    item=get_items(html)\n",
        "   # print(item)\n",
        "    c=c+1\n",
        "    i+=1\n",
        " \n",
        "  if c > 1:\n",
        "    return True\n",
        "  else:\n",
        "    return False\n",
        "\n",
        "assert duplicate_items('''<h2>An unordered HTML List</h2><ul><li>Coffee</li><li>Tea</li><li>Milk</li><li>Chocolate</li><li>Water</li><li>Apple Juice</li><li>Coconut Water</li><li>Sugarcane Juice</li><li>Apple Juice</li></ul>''')==True\n",
        "assert duplicate_items('''<h2>An unordered HTML List</h2><ul><li>Coffee</li><li>Tea</li><li>Milk</li><li>Chocolate</li><li>Tea</li><li>Water</li></ul>''')==True\n",
        "assert duplicate_items('''<h2>An unordered HTML List</h2><ul><li>Coffee</li></ul>''')==False\n",
        "assert duplicate_items(\"\")==None\n",
        "print(\"All test cases passed\")"
      ],
      "execution_count": 0,
      "outputs": [
        {
          "output_type": "stream",
          "text": [
            "All test cases passed\n"
          ],
          "name": "stdout"
        }
      ]
    }
  ]
}